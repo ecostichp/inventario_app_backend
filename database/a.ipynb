{
 "cells": [
  {
   "cell_type": "code",
   "execution_count": 1,
   "metadata": {},
   "outputs": [],
   "source": [
    "import sqlite3\n",
    "dbpath = \"inventario.db\"\n",
    "\n",
    "\n",
    "from bulk_insert_db import bulk_data\n",
    "\n",
    "dfUsuarios = bulk_data('usuarios')\n",
    "query_dfUsuarios = 'INSERT INTO usuarios (usuario, estatus, nombre_1ro, nombre_2do, apellido_paterno, apellido_materno, almacen, foto) VALUES (?,?,?,?,?,?,?,?)'\n",
    "\n",
    "dfProductos = bulk_data('productos')\n",
    "query_dfProductos = 'INSERT INTO productos (codigo, descripcion, cantidad, ultimo_costo) VALUES (?,?,?,?)'"
   ]
  },
  {
   "cell_type": "code",
   "execution_count": 2,
   "metadata": {},
   "outputs": [],
   "source": [
    "def insert_data(dataFrame, query):\n",
    "    \n",
    "    conn = None\n",
    "\n",
    "    try:\n",
    "\n",
    "        # connect to the SQLite local\n",
    "        print('Tratando de conectarse a SQLite, de manera local...')\n",
    "        conn = sqlite3.connect(dbpath)\n",
    "\t\t\n",
    "        # create a cursor\n",
    "        cur = conn.cursor()\n",
    "        \n",
    "\t# execute a statement\n",
    "        print('Se logró la conexión con éxito.')\n",
    "        print('\\nTratando de insertar los datos...')\n",
    "        cur.executemany(query,dataFrame)\n",
    "\n",
    "        conn.commit()\n",
    "\t# close the communication with the PostgreSQL\n",
    "        cur.close()\n",
    "        print('Se insetaron con éxito la query.')\n",
    "\n",
    "    except (Exception, sqlite3.Error) as error:\n",
    "        print('No se insertaron los datos. El error es:')\n",
    "        print(error)\n",
    "    \n",
    "    finally:\n",
    "        if conn is not None:\n",
    "            conn.close()\n",
    "            print('\\nSe cerró la conexión a la base de datos.\\n')"
   ]
  },
  {
   "cell_type": "code",
   "execution_count": 3,
   "metadata": {},
   "outputs": [
    {
     "name": "stdout",
     "output_type": "stream",
     "text": [
      "Tratando de conectarse a SQLite, de manera local...\n",
      "Se logró la conexión con éxito.\n",
      "\n",
      "Tratando de insertar los datos...\n",
      "Se insetaron con éxito la query.\n",
      "\n",
      "Se cerró la conexión a la base de datos.\n",
      "\n",
      "Tratando de conectarse a SQLite, de manera local...\n",
      "Se logró la conexión con éxito.\n",
      "\n",
      "Tratando de insertar los datos...\n",
      "Se insetaron con éxito la query.\n",
      "\n",
      "Se cerró la conexión a la base de datos.\n",
      "\n"
     ]
    }
   ],
   "source": [
    "insert_data(dfUsuarios, query_dfUsuarios)\n",
    "insert_data(dfProductos, query_dfProductos)"
   ]
  },
  {
   "cell_type": "code",
   "execution_count": 4,
   "metadata": {},
   "outputs": [
    {
     "data": {
      "text/plain": [
       "str"
      ]
     },
     "execution_count": 4,
     "metadata": {},
     "output_type": "execute_result"
    }
   ],
   "source": [
    "type(dfProductos[0].ultimo_costo)"
   ]
  }
 ],
 "metadata": {
  "kernelspec": {
   "display_name": "Python 3.10.7 ('env': venv)",
   "language": "python",
   "name": "python3"
  },
  "language_info": {
   "codemirror_mode": {
    "name": "ipython",
    "version": 3
   },
   "file_extension": ".py",
   "mimetype": "text/x-python",
   "name": "python",
   "nbconvert_exporter": "python",
   "pygments_lexer": "ipython3",
   "version": "3.10.7"
  },
  "orig_nbformat": 4,
  "vscode": {
   "interpreter": {
    "hash": "46621545693c27067bc036ca06dd0e34d8ef59d5cf700611140e4f752f9305c7"
   }
  }
 },
 "nbformat": 4,
 "nbformat_minor": 2
}
